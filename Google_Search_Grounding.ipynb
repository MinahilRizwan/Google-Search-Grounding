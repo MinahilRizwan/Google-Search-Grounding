{
  "nbformat": 4,
  "nbformat_minor": 0,
  "metadata": {
    "colab": {
      "provenance": []
    },
    "kernelspec": {
      "name": "python3",
      "display_name": "Python 3"
    },
    "language_info": {
      "name": "python"
    }
  },
  "cells": [
    {
      "cell_type": "code",
      "execution_count": null,
      "metadata": {
        "id": "CXPl8nBHjdIB"
      },
      "outputs": [],
      "source": [
        "# @title Licensed under the Apache License, Version 2.0 (the \"License\");\n",
        "# you may not use this file except in compliance with the License.\n",
        "# You may obtain a copy of the License at\n",
        "#\n",
        "# https://www.apache.org/licenses/LICENSE-2.0\n",
        "#\n",
        "# Unless required by applicable law or agreed to in writing, software\n",
        "# distributed under the License is distributed on an \"AS IS\" BASIS,\n",
        "# WITHOUT WARRANTIES OR CONDITIONS OF ANY KIND, either express or implied.\n",
        "# See the License for the specific language governing permissions and\n",
        "# limitations under the License."
      ]
    },
    {
      "cell_type": "code",
      "source": [
        "# Uninstall packages from Kaggle base image that are not needed.\n",
        "!pip uninstall -qy jupyterlab jupyterlab-lsp\n",
        "# Install the google-genai SDK for this codelab.\n",
        "!pip install -qU 'google-genai==1.7.0'"
      ],
      "metadata": {
        "id": "OK-KUG5WjmZO"
      },
      "execution_count": null,
      "outputs": []
    },
    {
      "cell_type": "code",
      "source": [
        "from google import genai\n",
        "from google.genai import types\n",
        "\n",
        "from IPython.display import Markdown, HTML, display\n",
        "\n",
        "genai.__version__"
      ],
      "metadata": {
        "id": "uk_W242hjrvj"
      },
      "execution_count": null,
      "outputs": []
    },
    {
      "cell_type": "code",
      "source": [
        "import os\n",
        "from google import genai\n",
        "from google.genai import types\n",
        "from IPython.display import Markdown, HTML, display\n",
        "\n",
        "# Try to get the API key from environment variables\n",
        "GOOGLE_API_KEY = os.getenv(\"GOOGLE_API_KEY\")\n",
        "\n",
        "# If API key is not set in the environment, prompt the user to enter it\n",
        "if not GOOGLE_API_KEY:\n",
        "    GOOGLE_API_KEY = input(\"Please enter your Google API key: \")\n",
        "\n",
        "if not GOOGLE_API_KEY:\n",
        "    raise ValueError(\"Google API key not found. Please set the GOOGLE_API_KEY environment variable or provide it manually.\")\n",
        "\n",
        "# Now initialize the client with the API key\n",
        "client = genai.Client(api_key=GOOGLE_API_KEY)\n"
      ],
      "metadata": {
        "id": "TbTQK93UjwRO"
      },
      "execution_count": null,
      "outputs": []
    },
    {
      "cell_type": "code",
      "source": [
        "# Define a retry policy. The model might make multiple consecutive calls automatically\n",
        "# for a complex query, this ensures the client retries if it hits quota limits.\n",
        "from google.api_core import retry\n",
        "\n",
        "is_retriable = lambda e: (isinstance(e, genai.errors.APIError) and e.code in {429, 503})\n",
        "\n",
        "if not hasattr(genai.models.Models.generate_content, '__wrapped__'):\n",
        "  genai.models.Models.generate_content = retry.Retry(\n",
        "      predicate=is_retriable)(genai.models.Models.generate_content)"
      ],
      "metadata": {
        "id": "4vw-3Zoyj28w"
      },
      "execution_count": null,
      "outputs": []
    },
    {
      "cell_type": "code",
      "source": [
        "import os\n",
        "from google import genai\n",
        "from google.genai import types\n",
        "from IPython.display import Markdown, display\n",
        "\n",
        "# Try to get the API key from environment variables\n",
        "GOOGLE_API_KEY = os.getenv(\"GOOGLE_API_KEY\")\n",
        "\n",
        "# If API key is not set in the environment, prompt the user to enter it\n",
        "if not GOOGLE_API_KEY:\n",
        "    GOOGLE_API_KEY = input(\"Please enter your Google API key: \")\n",
        "\n",
        "if not GOOGLE_API_KEY:\n",
        "    raise ValueError(\"Google API key not found. Please set the GOOGLE_API_KEY environment variable or provide it manually.\")\n",
        "\n",
        "# Initialize the GenAI client with the API key\n",
        "client = genai.Client(api_key=GOOGLE_API_KEY)\n",
        "\n",
        "# Start a conversation loop\n",
        "print(\"Chatbot started! Type 'quit' to exit.\")\n",
        "while True:\n",
        "    # Ask the user for a question\n",
        "    user_input = input(\"You: \")\n",
        "\n",
        "    # Exit condition for the loop\n",
        "    if user_input.lower() == 'quit':\n",
        "        print(\"Exiting the chatbot. Goodbye!\")\n",
        "        break\n",
        "\n",
        "    # Call the API to generate a response based on the user's input\n",
        "    response = client.models.generate_content(\n",
        "        model='gemini-2.0-flash',\n",
        "        contents=user_input\n",
        "    )\n",
        "\n",
        "    # Display the response\n",
        "    display(Markdown(response.text))\n"
      ],
      "metadata": {
        "id": "HbogcbNxj7O-"
      },
      "execution_count": null,
      "outputs": []
    },
    {
      "cell_type": "code",
      "source": [
        "import os\n",
        "from google import genai\n",
        "from google.genai import types\n",
        "from IPython.display import Markdown, display\n",
        "\n",
        "# Try to get the API key from environment variables\n",
        "GOOGLE_API_KEY = os.getenv(\"GOOGLE_API_KEY\")\n",
        "\n",
        "# If API key is not set in the environment, prompt the user to enter it\n",
        "if not GOOGLE_API_KEY:\n",
        "    GOOGLE_API_KEY = input(\"Please enter your Google API key: \")\n",
        "\n",
        "if not GOOGLE_API_KEY:\n",
        "    raise ValueError(\"Google API key not found. Please set the GOOGLE_API_KEY environment variable or provide it manually.\")\n",
        "\n",
        "# Initialize the GenAI client with the API key\n",
        "client = genai.Client(api_key=GOOGLE_API_KEY)\n",
        "\n",
        "# Define the configuration for search grounding\n",
        "config_with_search = types.GenerateContentConfig(\n",
        "    tools=[types.Tool(google_search=types.GoogleSearch())],\n",
        ")\n",
        "\n",
        "def query_with_search_grounding(user_input):\n",
        "    response = client.models.generate_content(\n",
        "        model='gemini-2.0-flash',\n",
        "        contents=user_input,\n",
        "        config=config_with_search,\n",
        "    )\n",
        "    return response.candidates[0]\n",
        "\n",
        "# Start a conversation loop\n",
        "print(\"Chatbot started! Type 'quit' to exit.\")\n",
        "while True:\n",
        "    # Ask the user for a question\n",
        "    user_input = input(\"You: \")\n",
        "\n",
        "    # Exit condition for the loop\n",
        "    if user_input.lower() == 'quit':\n",
        "        print(\"Exiting the chatbot. Goodbye!\")\n",
        "        break\n",
        "\n",
        "    # Option to toggle between search grounding or not\n",
        "    search_toggle = input(\"Would you like to enable search grounding? (yes/no): \").strip().lower()\n",
        "\n",
        "    if search_toggle == 'yes':\n",
        "        # Run query with search grounding\n",
        "        response = query_with_search_grounding(user_input)\n",
        "        # Access the correct response content when search grounding is enabled\n",
        "        display(Markdown(response.content.parts[0].text))\n",
        "    else:\n",
        "        # Run query without search grounding\n",
        "        response = client.models.generate_content(\n",
        "            model='gemini-2.0-flash',\n",
        "            contents=user_input\n",
        "        )quit\n",
        "\n",
        "        # Display the response\n",
        "        display(Markdown(response.text))\n"
      ],
      "metadata": {
        "id": "sTBQc6b1lz6p"
      },
      "execution_count": null,
      "outputs": []
    }
  ]
}